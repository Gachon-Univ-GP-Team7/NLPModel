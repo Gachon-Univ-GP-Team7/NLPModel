{
 "nbformat": 4,
 "nbformat_minor": 0,
 "metadata": {
  "colab": {
   "provenance": [],
   "mount_file_id": "1K_7T0VYAphjVOWdTCU3YXSl8OIP3RHae",
   "authorship_tag": "ABX9TyM+KiaCs0AniTsdQ+1AIDe1"
  },
  "kernelspec": {
   "name": "python3",
   "display_name": "Python 3"
  },
  "language_info": {
   "name": "python"
  }
 },
 "cells": [
  {
   "cell_type": "code",
   "source": [
    "import numpy as np\n",
    "import pandas as pd\n",
    "\n",
    "data = pd.read_csv('/content/drive/MyDrive/Project/NLPModel/Data/EmbeddingTrainData.csv')\n",
    "data = data.to_numpy()\n",
    "data = np.delete(data, 0, axis=0)\n",
    "data = np.delete(data, 0, axis=1)\n",
    "for line in data:\n",
    "  for word in line:\n",
    "    word = word.replace('[', '')\n",
    "    word = word.replace(']', '')\n",
    "    print(type(list(map(float, word.split(',')))[0]))\n",
    "    break\n",
    "  \n",
    "  break"
   ],
   "metadata": {
    "colab": {
     "base_uri": "https://localhost:8080/"
    },
    "id": "-vE0BD9XHiwn",
    "executionInfo": {
     "status": "ok",
     "timestamp": 1669637637025,
     "user_tz": -540,
     "elapsed": 428,
     "user": {
      "displayName": "이지호",
      "userId": "10888298124846758740"
     }
    },
    "outputId": "c2e60940-6a57-4a97-a6ee-099fe3ca9d1d",
    "pycharm": {
     "name": "#%%\n"
    }
   },
   "execution_count": 14,
   "outputs": [
    {
     "output_type": "stream",
     "name": "stdout",
     "text": [
      "<class 'list'>\n"
     ]
    }
   ]
  },
  {
   "cell_type": "markdown",
   "source": [],
   "metadata": {
    "id": "fjJvR1OVHibq",
    "pycharm": {
     "name": "#%% md\n"
    }
   }
  }
 ]
}