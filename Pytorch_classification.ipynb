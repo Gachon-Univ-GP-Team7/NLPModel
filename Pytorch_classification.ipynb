{
 "nbformat": 4,
 "nbformat_minor": 0,
 "metadata": {
  "colab": {
   "provenance": [],
   "machine_shape": "hm",
   "mount_file_id": "1IqrRfFsBsV8gSOwmFKS7ot3Q8cCOjmNY",
   "authorship_tag": "ABX9TyNAsaMk4FXxiDizkd6j+wzI"
  },
  "kernelspec": {
   "name": "python3",
   "display_name": "Python 3"
  },
  "language_info": {
   "name": "python"
  },
  "gpuClass": "premium",
  "accelerator": "GPU"
 },
 "cells": [
  {
   "cell_type": "code",
   "execution_count": 9,
   "outputs": [],
   "source": [
    "from tensorflow.keras.models import Sequential, load_model\n",
    "from tensorflow.keras.layers import Dense, LSTM, Dropout\n",
    "from tensorflow.keras.utils import to_categorical\n",
    "from tensorflow.keras.callbacks import EarlyStopping, ModelCheckpoint\n",
    "from keras import optimizers\n",
    "import matplotlib.pyplot as plt\n",
    "import pandas as pd\n",
    "import numpy as np"
   ],
   "metadata": {
    "collapsed": false,
    "pycharm": {
     "name": "#%%\n"
    }
   }
  },
  {
   "cell_type": "code",
   "execution_count": 2,
   "outputs": [],
   "source": [
    "# 데이터 파싱\n",
    "data = pd.read_csv('./Data/EmbeddingTrainData4.csv')\n",
    "data = data.to_numpy()\n",
    "data = np.delete(data, 0, axis=0)\n",
    "data = np.delete(data, 0, axis=1)\n",
    "\n",
    "np.random.shuffle(data)\n",
    "\n",
    "train_data = data[:18071]\n",
    "test_data = data[18072:]\n",
    "\n",
    "train_x = []\n",
    "train_y = []\n",
    "test_x = []\n",
    "test_y = []\n",
    "\n",
    "for line in train_data:\n",
    "  train_x.append(line[:27])\n",
    "  train_y.append(line[28])\n",
    "\n",
    "for line in test_data:\n",
    "  test_x.append(line[:27])\n",
    "  test_y.append(line[28])\n",
    "\n",
    "\n",
    "\n",
    "outer_temp_train = []\n",
    "for line in train_x:\n",
    "  temp = []\n",
    "  for word in line:\n",
    "    word = word.replace('[', '')\n",
    "    word = word.replace(']', '')\n",
    "    temp.append(list(map(float, word.split(','))))\n",
    "\n",
    "  outer_temp_train.append(temp)\n",
    "\n",
    "train_x = outer_temp_train\n",
    "\n",
    "outer_temp_test = []\n",
    "for line in test_x:\n",
    "  temp = []\n",
    "  for word in line:\n",
    "    word = word.replace('[', '')\n",
    "    word = word.replace(']', '')\n",
    "    temp.append(list(map(float, word.split(','))))\n",
    "\n",
    "  outer_temp_test.append(temp)\n",
    "\n",
    "test_x = outer_temp_test\n",
    "\n",
    "train_y = to_categorical(train_y)\n",
    "test_y = to_categorical(test_y)"
   ],
   "metadata": {
    "collapsed": false,
    "pycharm": {
     "name": "#%%\n"
    }
   }
  },
  {
   "cell_type": "code",
   "execution_count": 11,
   "outputs": [
    {
     "name": "stdout",
     "output_type": "stream",
     "text": [
      "Epoch 1/20\n",
      "18070/18071 [============================>.] - ETA: 0s - loss: 2.2628 - acc: 0.2835\n",
      "Epoch 1: val_acc improved from -inf to 0.28676, saving model to ./best_model.h5\n",
      "18071/18071 [==============================] - 728s 40ms/step - loss: 2.2627 - acc: 0.2835 - val_loss: 2.1373 - val_acc: 0.2868\n",
      "Epoch 2/20\n",
      "18070/18071 [============================>.] - ETA: 0s - loss: 2.0434 - acc: 0.2836\n",
      "Epoch 2: val_acc did not improve from 0.28676\n",
      "18071/18071 [==============================] - 722s 40ms/step - loss: 2.0434 - acc: 0.2835 - val_loss: 1.9594 - val_acc: 0.2868\n",
      "Epoch 3/20\n",
      "18071/18071 [==============================] - ETA: 0s - loss: 1.8976 - acc: 0.2835\n",
      "Epoch 3: val_acc did not improve from 0.28676\n",
      "18071/18071 [==============================] - 717s 40ms/step - loss: 1.8976 - acc: 0.2835 - val_loss: 1.8403 - val_acc: 0.2868\n",
      "Epoch 4/20\n",
      "18070/18071 [============================>.] - ETA: 0s - loss: 1.7989 - acc: 0.2836\n",
      "Epoch 4: val_acc did not improve from 0.28676\n",
      "18071/18071 [==============================] - 723s 40ms/step - loss: 1.7989 - acc: 0.2835 - val_loss: 1.7584 - val_acc: 0.2868\n",
      "Epoch 5/20\n",
      "18071/18071 [==============================] - ETA: 0s - loss: 1.7300 - acc: 0.2837\n",
      "Epoch 5: val_acc did not improve from 0.28676\n",
      "18071/18071 [==============================] - 710s 39ms/step - loss: 1.7300 - acc: 0.2837 - val_loss: 1.7002 - val_acc: 0.2868\n",
      "Epoch 6/20\n",
      "18071/18071 [==============================] - ETA: 0s - loss: 1.6802 - acc: 0.2839\n",
      "Epoch 6: val_acc did not improve from 0.28676\n",
      "18071/18071 [==============================] - 699s 39ms/step - loss: 1.6802 - acc: 0.2839 - val_loss: 1.6573 - val_acc: 0.2868\n",
      "Epoch 7/20\n",
      "18070/18071 [============================>.] - ETA: 0s - loss: 1.6431 - acc: 0.2807\n",
      "Epoch 7: val_acc did not improve from 0.28676\n",
      "18071/18071 [==============================] - 710s 39ms/step - loss: 1.6431 - acc: 0.2807 - val_loss: 1.6248 - val_acc: 0.2868\n",
      "Epoch 8/20\n",
      "18070/18071 [============================>.] - ETA: 0s - loss: 1.6145 - acc: 0.2809\n",
      "Epoch 8: val_acc did not improve from 0.28676\n",
      "18071/18071 [==============================] - 713s 39ms/step - loss: 1.6145 - acc: 0.2809 - val_loss: 1.5995 - val_acc: 0.2868\n",
      "Epoch 9/20\n",
      "18071/18071 [==============================] - ETA: 0s - loss: 1.5920 - acc: 0.2833\n",
      "Epoch 9: val_acc improved from 0.28676 to 0.28698, saving model to ./best_model.h5\n",
      "18071/18071 [==============================] - 708s 39ms/step - loss: 1.5920 - acc: 0.2833 - val_loss: 1.5793 - val_acc: 0.2870\n",
      "Epoch 10/20\n",
      "18071/18071 [==============================] - ETA: 0s - loss: 1.5738 - acc: 0.2831\n",
      "Epoch 10: val_acc did not improve from 0.28698\n",
      "18071/18071 [==============================] - 730s 40ms/step - loss: 1.5738 - acc: 0.2831 - val_loss: 1.5629 - val_acc: 0.2870\n",
      "Epoch 11/20\n",
      "18070/18071 [============================>.] - ETA: 0s - loss: 1.5589 - acc: 0.2848\n",
      "Epoch 11: val_acc did not improve from 0.28698\n",
      "18071/18071 [==============================] - 719s 40ms/step - loss: 1.5589 - acc: 0.2848 - val_loss: 1.5493 - val_acc: 0.2865\n",
      "Epoch 12/20\n",
      "18071/18071 [==============================] - ETA: 0s - loss: 1.5467 - acc: 0.2833\n",
      "Epoch 12: val_acc did not improve from 0.28698\n",
      "18071/18071 [==============================] - 730s 40ms/step - loss: 1.5467 - acc: 0.2833 - val_loss: 1.5379 - val_acc: 0.2826\n",
      "Epoch 13/20\n",
      "18071/18071 [==============================] - ETA: 0s - loss: 1.5363 - acc: 0.2818\n",
      "Epoch 13: val_acc did not improve from 0.28698\n",
      "18071/18071 [==============================] - 731s 40ms/step - loss: 1.5363 - acc: 0.2818 - val_loss: 1.5283 - val_acc: 0.2865\n",
      "Epoch 14/20\n",
      "18070/18071 [============================>.] - ETA: 0s - loss: 1.5274 - acc: 0.2812\n",
      "Epoch 14: val_acc improved from 0.28698 to 0.28720, saving model to ./best_model.h5\n",
      "18071/18071 [==============================] - 730s 40ms/step - loss: 1.5274 - acc: 0.2813 - val_loss: 1.5200 - val_acc: 0.2872\n",
      "Epoch 15/20\n",
      "18071/18071 [==============================] - ETA: 0s - loss: 1.5198 - acc: 0.2843\n",
      "Epoch 15: val_acc did not improve from 0.28720\n",
      "18071/18071 [==============================] - 777s 43ms/step - loss: 1.5198 - acc: 0.2843 - val_loss: 1.5129 - val_acc: 0.2870\n",
      "Epoch 16/20\n",
      "18070/18071 [============================>.] - ETA: 0s - loss: 1.5132 - acc: 0.2844\n",
      "Epoch 16: val_acc did not improve from 0.28720\n",
      "18071/18071 [==============================] - 736s 41ms/step - loss: 1.5132 - acc: 0.2844 - val_loss: 1.5066 - val_acc: 0.2863\n",
      "Epoch 17/20\n",
      "18071/18071 [==============================] - ETA: 0s - loss: 1.5073 - acc: 0.2860\n",
      "Epoch 17: val_acc did not improve from 0.28720\n",
      "18071/18071 [==============================] - 748s 41ms/step - loss: 1.5073 - acc: 0.2860 - val_loss: 1.5011 - val_acc: 0.2861\n",
      "Epoch 18/20\n",
      "18071/18071 [==============================] - ETA: 0s - loss: 1.5023 - acc: 0.2835\n",
      "Epoch 18: val_acc did not improve from 0.28720\n",
      "18071/18071 [==============================] - 732s 41ms/step - loss: 1.5023 - acc: 0.2835 - val_loss: 1.4963 - val_acc: 0.2868\n",
      "Epoch 19/20\n",
      "18070/18071 [============================>.] - ETA: 0s - loss: 1.4977 - acc: 0.2783\n",
      "Epoch 19: val_acc did not improve from 0.28720\n",
      "18071/18071 [==============================] - 731s 40ms/step - loss: 1.4977 - acc: 0.2783 - val_loss: 1.4920 - val_acc: 0.2861\n",
      "Epoch 20/20\n",
      "18071/18071 [==============================] - ETA: 0s - loss: 1.4936 - acc: 0.2870\n",
      "Epoch 20: val_acc did not improve from 0.28720\n",
      "18071/18071 [==============================] - 751s 42ms/step - loss: 1.4936 - acc: 0.2870 - val_loss: 1.4881 - val_acc: 0.2870\n"
     ]
    }
   ],
   "source": [
    "#모델\n",
    "# Dropout -> 과적합 방지를 위한 버리기\n",
    "model = Sequential()\n",
    "model.add(LSTM(512, activation='relu', input_shape=(27, 100), return_sequences=True))\n",
    "model.add(Dropout(0.3))\n",
    "model.add(LSTM(256, activation='relu', return_sequences=True))\n",
    "model.add(Dropout(0.3))\n",
    "model.add(LSTM(128, activation='relu'))\n",
    "model.add(Dropout(0.3))\n",
    "model.add(Dense(128))\n",
    "model.add(Dropout(0.3))\n",
    "model.add(Dense(11, activation='softmax'))\n",
    "model.add(Dense(11, activation='softmax'))\n",
    "\n",
    "es = EarlyStopping(monitor='val_loss', mode='min', verbose=1, patience=4)\n",
    "mc = ModelCheckpoint('./best_model.h5', monitor='val_acc', mode='max', verbose=1, save_best_only=True)\n",
    "\n",
    "sgd = optimizers.SGD(lr=0.00001, decay=1e-6, momentum=0.9, nesterov=True)\n",
    "model.compile(loss='categorical_crossentropy', optimizer=sgd, metrics=['acc'])\n",
    "history = model.fit(train_x, train_y.tolist(), epochs=20, batch_size=1, callbacks=[es, mc], validation_data=(test_x, test_y.tolist()))"
   ],
   "metadata": {
    "collapsed": false,
    "pycharm": {
     "name": "#%%\n"
    }
   }
  },
  {
   "cell_type": "code",
   "execution_count": 12,
   "outputs": [
    {
     "data": {
      "text/plain": "<Figure size 640x480 with 1 Axes>",
      "image/png": "[encoded data removed]"
     },
     "metadata": {},
     "output_type": "display_data"
    }
   ],
   "source": [
    "epochs = range(1, len(history.history['acc']) + 1)\n",
    "plt.plot(epochs, history.history['loss'])\n",
    "plt.plot(epochs, history.history['val_loss'])\n",
    "plt.title('model loss')\n",
    "plt.ylabel('loss')\n",
    "plt.xlabel('epoch')\n",
    "plt.legend(['train', 'val'], loc='upper left')\n",
    "plt.show()"
   ],
   "metadata": {
    "collapsed": false,
    "pycharm": {
     "name": "#%%\n"
    }
   }
  },
  {
   "cell_type": "code",
   "execution_count": 13,
   "outputs": [
    {
     "name": "stdout",
     "output_type": "stream",
     "text": [
      "Model: \"sequential_7\"\n",
      "_________________________________________________________________\n",
      " Layer (type)                Output Shape              Param #   \n",
      "=================================================================\n",
      " lstm_22 (LSTM)              (None, 27, 512)           1255424   \n",
      "                                                                 \n",
      " dropout_4 (Dropout)         (None, 27, 512)           0         \n",
      "                                                                 \n",
      " lstm_23 (LSTM)              (None, 27, 256)           787456    \n",
      "                                                                 \n",
      " dropout_5 (Dropout)         (None, 27, 256)           0         \n",
      "                                                                 \n",
      " lstm_24 (LSTM)              (None, 128)               197120    \n",
      "                                                                 \n",
      " dropout_6 (Dropout)         (None, 128)               0         \n",
      "                                                                 \n",
      " dense_11 (Dense)            (None, 128)               16512     \n",
      "                                                                 \n",
      " dropout_7 (Dropout)         (None, 128)               0         \n",
      "                                                                 \n",
      " dense_12 (Dense)            (None, 11)                1419      \n",
      "                                                                 \n",
      " dense_13 (Dense)            (None, 11)                132       \n",
      "                                                                 \n",
      "=================================================================\n",
      "Total params: 2,258,063\n",
      "Trainable params: 2,258,063\n",
      "Non-trainable params: 0\n",
      "_________________________________________________________________\n",
      "142/142 [==============================] - 6s 43ms/step - loss: 1.5200 - acc: 0.2872\n",
      "\n",
      " 테스트 정확도: 0.2872\n"
     ]
    }
   ],
   "source": [
    "loaded_model = load_model('best_model.h5')\n",
    "loaded_model.summary()\n",
    "print(\"\\n 테스트 정확도: %.4f\" % (loaded_model.evaluate(test_x, test_y.tolist())[1]))"
   ],
   "metadata": {
    "collapsed": false,
    "pycharm": {
     "name": "#%%\n"
    }
   }
  },
  {
   "cell_type": "code",
   "execution_count": 14,
   "outputs": [
    {
     "name": "stdout",
     "output_type": "stream",
     "text": [
      "142/142 [==============================] - 6s 41ms/step - loss: 1.4881 - acc: 0.2870\n",
      "\n",
      " 테스트 정확도: 0.2870\n"
     ]
    }
   ],
   "source": [
    "print(\"\\n 테스트 정확도: %.4f\" % (model.evaluate(test_x, test_y.tolist())[1]))\n",
    "#model.save('./softmax.h5')"
   ],
   "metadata": {
    "collapsed": false,
    "pycharm": {
     "name": "#%%\n"
    }
   }
  },
  {
   "cell_type": "code",
   "execution_count": 22,
   "outputs": [
    {
     "ename": "AttributeError",
     "evalue": "module 'keras.backend' has no attribute 'tensorflow_backend'",
     "output_type": "error",
     "traceback": [
      "\u001B[0;31m---------------------------------------------------------------------------\u001B[0m",
      "\u001B[0;31mAttributeError\u001B[0m                            Traceback (most recent call last)",
      "Cell \u001B[0;32mIn[22], line 3\u001B[0m\n\u001B[1;32m      1\u001B[0m \u001B[38;5;28;01mfrom\u001B[39;00m \u001B[38;5;21;01mkeras\u001B[39;00m \u001B[38;5;28;01mimport\u001B[39;00m backend \u001B[38;5;28;01mas\u001B[39;00m K\n\u001B[0;32m----> 3\u001B[0m \u001B[43mK\u001B[49m\u001B[38;5;241;43m.\u001B[39;49m\u001B[43mtensorflow_backend\u001B[49m\u001B[38;5;241m.\u001B[39m_get_available_gpus()\n",
      "\u001B[0;31mAttributeError\u001B[0m: module 'keras.backend' has no attribute 'tensorflow_backend'"
     ]
    }
   ],
   "source": [
    "from keras import backend as K\n",
    "\n",
    "K.tensorflow_backend._get_available_gpus()"
   ],
   "metadata": {
    "collapsed": false,
    "pycharm": {
     "name": "#%%\n"
    }
   }
  }
 ]
}